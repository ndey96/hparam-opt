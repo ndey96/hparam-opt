{
 "cells": [
  {
   "cell_type": "code",
   "execution_count": 1,
   "metadata": {
    "collapsed": true
   },
   "outputs": [],
   "source": [
    "import pandas as pd\n",
    "import numpy as np\n",
    "from sklearn.ensemble import RandomForestClassifier\n",
    "from sklearn.model_selection import train_test_split\n",
    "from scipy.optimize import Bounds, minimize"
   ]
  },
  {
   "cell_type": "code",
   "execution_count": 2,
   "metadata": {},
   "outputs": [
    {
     "data": {
      "text/html": [
       "<div>\n",
       "<style scoped>\n",
       "    .dataframe tbody tr th:only-of-type {\n",
       "        vertical-align: middle;\n",
       "    }\n",
       "\n",
       "    .dataframe tbody tr th {\n",
       "        vertical-align: top;\n",
       "    }\n",
       "\n",
       "    .dataframe thead th {\n",
       "        text-align: right;\n",
       "    }\n",
       "</style>\n",
       "<table border=\"1\" class=\"dataframe\">\n",
       "  <thead>\n",
       "    <tr style=\"text-align: right;\">\n",
       "      <th></th>\n",
       "      <th>Sample code number</th>\n",
       "      <th>Clump Thickness</th>\n",
       "      <th>Uniformity of Cell Size</th>\n",
       "      <th>Uniformity of Cell Shape</th>\n",
       "      <th>Marginal Adhesion</th>\n",
       "      <th>Single Epithelial Cell Size</th>\n",
       "      <th>Bare Nuclei</th>\n",
       "      <th>Bland Chromatin</th>\n",
       "      <th>Normal Nucleoli</th>\n",
       "      <th>Mitoses</th>\n",
       "      <th>Class</th>\n",
       "    </tr>\n",
       "  </thead>\n",
       "  <tbody>\n",
       "    <tr>\n",
       "      <th>0</th>\n",
       "      <td>1000025</td>\n",
       "      <td>5</td>\n",
       "      <td>1</td>\n",
       "      <td>1</td>\n",
       "      <td>1</td>\n",
       "      <td>2</td>\n",
       "      <td>1.0</td>\n",
       "      <td>3</td>\n",
       "      <td>1</td>\n",
       "      <td>1</td>\n",
       "      <td>0</td>\n",
       "    </tr>\n",
       "    <tr>\n",
       "      <th>1</th>\n",
       "      <td>1002945</td>\n",
       "      <td>5</td>\n",
       "      <td>4</td>\n",
       "      <td>4</td>\n",
       "      <td>5</td>\n",
       "      <td>7</td>\n",
       "      <td>10.0</td>\n",
       "      <td>3</td>\n",
       "      <td>2</td>\n",
       "      <td>1</td>\n",
       "      <td>0</td>\n",
       "    </tr>\n",
       "    <tr>\n",
       "      <th>2</th>\n",
       "      <td>1015425</td>\n",
       "      <td>3</td>\n",
       "      <td>1</td>\n",
       "      <td>1</td>\n",
       "      <td>1</td>\n",
       "      <td>2</td>\n",
       "      <td>2.0</td>\n",
       "      <td>3</td>\n",
       "      <td>1</td>\n",
       "      <td>1</td>\n",
       "      <td>0</td>\n",
       "    </tr>\n",
       "    <tr>\n",
       "      <th>3</th>\n",
       "      <td>1016277</td>\n",
       "      <td>6</td>\n",
       "      <td>8</td>\n",
       "      <td>8</td>\n",
       "      <td>1</td>\n",
       "      <td>3</td>\n",
       "      <td>4.0</td>\n",
       "      <td>3</td>\n",
       "      <td>7</td>\n",
       "      <td>1</td>\n",
       "      <td>0</td>\n",
       "    </tr>\n",
       "    <tr>\n",
       "      <th>4</th>\n",
       "      <td>1017023</td>\n",
       "      <td>4</td>\n",
       "      <td>1</td>\n",
       "      <td>1</td>\n",
       "      <td>3</td>\n",
       "      <td>2</td>\n",
       "      <td>1.0</td>\n",
       "      <td>3</td>\n",
       "      <td>1</td>\n",
       "      <td>1</td>\n",
       "      <td>0</td>\n",
       "    </tr>\n",
       "  </tbody>\n",
       "</table>\n",
       "</div>"
      ],
      "text/plain": [
       "   Sample code number  Clump Thickness  Uniformity of Cell Size  \\\n",
       "0             1000025                5                        1   \n",
       "1             1002945                5                        4   \n",
       "2             1015425                3                        1   \n",
       "3             1016277                6                        8   \n",
       "4             1017023                4                        1   \n",
       "\n",
       "   Uniformity of Cell Shape  Marginal Adhesion   Single Epithelial Cell Size  \\\n",
       "0                         1                   1                            2   \n",
       "1                         4                   5                            7   \n",
       "2                         1                   1                            2   \n",
       "3                         8                   1                            3   \n",
       "4                         1                   3                            2   \n",
       "\n",
       "   Bare Nuclei  Bland Chromatin  Normal Nucleoli  Mitoses  Class  \n",
       "0          1.0                3                1        1      0  \n",
       "1         10.0                3                2        1      0  \n",
       "2          2.0                3                1        1      0  \n",
       "3          4.0                3                7        1      0  \n",
       "4          1.0                3                1        1      0  "
      ]
     },
     "execution_count": 2,
     "metadata": {},
     "output_type": "execute_result"
    }
   ],
   "source": [
    "# data from https://archive.ics.uci.edu/ml/machine-learning-databases/breast-cancer-wisconsin/breast-cancer-wisconsin.data\n",
    "\n",
    "csv_col_names = [\n",
    "    'Sample code number',\n",
    "    'Clump Thickness',\n",
    "    'Uniformity of Cell Size',\n",
    "    'Uniformity of Cell Shape',\n",
    "    'Marginal Adhesion ',\n",
    "    'Single Epithelial Cell Size',\n",
    "    'Bare Nuclei',\n",
    "    'Bland Chromatin',\n",
    "    'Normal Nucleoli',\n",
    "    'Mitoses',\n",
    "    'Class',\n",
    "]\n",
    "df = pd.read_csv('uci-breast-cancer.csv',\n",
    "                 names=csv_col_names,\n",
    "                 na_values='?')\n",
    "df = df.dropna()\n",
    "df.loc[df['Class'] == 2, 'Class'] = 0\n",
    "df.loc[df['Class'] == 4, 'Class'] = 1\n",
    "df.head()\n",
    "# df.loc[df['Sample code number'] == 1096800] # row with missing value"
   ]
  },
  {
   "cell_type": "code",
   "execution_count": 3,
   "metadata": {
    "collapsed": true
   },
   "outputs": [],
   "source": [
    "df = df[df.columns.difference(['Sample code number'])]\n",
    "X = df[df.columns.difference(['Class'])].values\n",
    "y = df['Class'].values"
   ]
  },
  {
   "cell_type": "code",
   "execution_count": 4,
   "metadata": {
    "collapsed": true
   },
   "outputs": [],
   "source": [
    "X_train, X_test, y_train, y_test = train_test_split(X,\n",
    "                                                    y,\n",
    "                                                    test_size=0.3,\n",
    "                                                    random_state=0)"
   ]
  },
  {
   "cell_type": "code",
   "execution_count": 55,
   "metadata": {
    "collapsed": true
   },
   "outputs": [],
   "source": [
    "hparam_configs = [\n",
    "    {\n",
    "        'name': 'n_estimators',\n",
    "        'bound': [10, 1000],\n",
    "        'dtype': int,\n",
    "        'init': 10,\n",
    "    },\n",
    "    {\n",
    "        'name': 'max_features',\n",
    "        'bound': [0.1, 1],\n",
    "        'dtype': float,\n",
    "        'init': 1,\n",
    "    },\n",
    "    {\n",
    "        'name': 'max_depth',\n",
    "        'bound': [1, 100],\n",
    "        'dtype': int,\n",
    "        'init': 100,\n",
    "    },\n",
    "    {\n",
    "        'name': 'min_samples_split',\n",
    "        'bound': [2, 20],\n",
    "        'dtype': int,\n",
    "        'init': 2,\n",
    "    },\n",
    "    {\n",
    "        'name': 'min_samples_leaf',\n",
    "        'bound': [1, 20],\n",
    "        'dtype': int,\n",
    "        'init': 1,\n",
    "    },\n",
    "    {\n",
    "        'name': 'min_weight_fraction_leaf',\n",
    "        'bound': [0, 0.5],\n",
    "        'dtype': float,\n",
    "        'init': 0,\n",
    "    },\n",
    "    {\n",
    "        'name': 'max_leaf_nodes',\n",
    "        'bound': [10, 10000],\n",
    "        'dtype': int,\n",
    "        'init': 10000,\n",
    "    },\n",
    "    {\n",
    "        'name': 'min_impurity_decrease',\n",
    "        'bound': [0, 0.01],\n",
    "        'dtype': float,\n",
    "        'init': 0,\n",
    "    },\n",
    "    {\n",
    "        'name': 'bootstrap',\n",
    "        'bound': [0, 1],\n",
    "        'dtype': bool,\n",
    "        'init': 1,\n",
    "    },\n",
    "]"
   ]
  },
  {
   "cell_type": "code",
   "execution_count": 56,
   "metadata": {
    "collapsed": true
   },
   "outputs": [],
   "source": [
    "def test_rf(x):\n",
    "    rf_kwargs = {}\n",
    "    for param_val, config in zip(x, hparam_configs):\n",
    "        sanitized_val = param_val\n",
    "        if config['dtype'] == float:\n",
    "            rf_kwargs[config['name']] = param_val\n",
    "        elif config['dtype'] == bool:\n",
    "            rf_kwargs[config['name']] = bool(np.round(param_val))\n",
    "        elif config['dtype'] == int:\n",
    "            rf_kwargs[config['name']] = int(np.round(param_val))\n",
    "\n",
    "    rf = RandomForestClassifier(random_state=0, n_jobs=-1, **rf_kwargs)\n",
    "    rf = rf.fit(X_train, y_train)\n",
    "    return 1 - rf.score(X_test, y_test)"
   ]
  },
  {
   "cell_type": "code",
   "execution_count": 57,
   "metadata": {},
   "outputs": [
    {
     "name": "stdout",
     "output_type": "stream",
     "text": [
      "      fun: 0.06341463414634141\n",
      " hess_inv: <1x1 LbfgsInvHessProduct with dtype=float64>\n",
      "      jac: array([0.])\n",
      "  message: b'CONVERGENCE: NORM_OF_PROJECTED_GRADIENT_<=_PGTOL'\n",
      "     nfev: 2\n",
      "      nit: 0\n",
      "   status: 0\n",
      "  success: True\n",
      "        x: array([10.])\n"
     ]
    }
   ],
   "source": [
    "initial_hparams = [config['init'] for config in hparam_configs]\n",
    "hparam_bounds = [config['bound'] for config in hparam_configs]\n",
    "res = minimize(fun=test_rf,\n",
    "               x0=initial_hparams,\n",
    "               bounds=hparam_bounds)\n",
    "print(res)"
   ]
  },
  {
   "cell_type": "code",
   "execution_count": 40,
   "metadata": {},
   "outputs": [
    {
     "name": "stdout",
     "output_type": "stream",
     "text": [
      "     fun: 0.06829268292682922\n",
      "     jac: array([0., 0., 0., 0., 0., 0., 0., 0.])\n",
      " message: 'Local minimum reached (|pg| ~= 0)'\n",
      "    nfev: 1\n",
      "     nit: 0\n",
      "  status: 0\n",
      " success: True\n",
      "       x: array([ 10.,   1., 100.,   2.,   1.,   0.,   0.,   1.])\n"
     ]
    }
   ],
   "source": [
    "initial_hparams = [config['init'] for config in hparam_configs]\n",
    "hparam_bounds = [config['bound'] for config in hparam_configs]\n",
    "res = minimize(fun=test_rf,\n",
    "               x0=initial_hparams,\n",
    "               method='TNC',\n",
    "               bounds=hparam_bounds,\n",
    "               tol=1e-10,\n",
    "               options={'disp': True})\n",
    "print(res)"
   ]
  },
  {
   "cell_type": "code",
   "execution_count": 36,
   "metadata": {},
   "outputs": [
    {
     "name": "stdout",
     "output_type": "stream",
     "text": [
      "      fun: 0.9317073170731708\n",
      " hess_inv: <9x9 LbfgsInvHessProduct with dtype=float64>\n",
      "      jac: array([0., 0., 0., 0., 0., 0., 0., 0., 0.])\n",
      "  message: b'CONVERGENCE: NORM_OF_PROJECTED_GRADIENT_<=_PGTOL'\n",
      "     nfev: 10\n",
      "      nit: 0\n",
      "   status: 0\n",
      "  success: True\n",
      "        x: array([1.e+01, 1.e+00, 1.e+02, 2.e+00, 1.e+00, 0.e+00, 1.e+04, 0.e+00,\n",
      "       1.e+00])\n"
     ]
    }
   ],
   "source": [
    "initial_hparams = [config['init'] for config in hparam_configs]\n",
    "hparam_bounds = [config['bound'] for config in hparam_configs]\n",
    "res = minimize(fun=test_rf,\n",
    "               x0=initial_hparams,\n",
    "               method='L-BFGS-B',\n",
    "               bounds=hparam_bounds,\n",
    "               options={'disp': True, 'maxcor': 1000, 'ftol': 2.220446049250313e-09, 'gtol': 1e-10, 'eps': 1e-10, 'maxfun': 15000, 'maxiter': 15000, 'iprint': -1, 'maxls': 20})\n",
    "print(res)"
   ]
  },
  {
   "cell_type": "code",
   "execution_count": 54,
   "metadata": {},
   "outputs": [
    {
     "data": {
      "text/plain": [
       "0.06341463414634141"
      ]
     },
     "execution_count": 54,
     "metadata": {},
     "output_type": "execute_result"
    }
   ],
   "source": [
    "test_rf([10, 0.5])"
   ]
  },
  {
   "cell_type": "code",
   "execution_count": null,
   "metadata": {
    "collapsed": true
   },
   "outputs": [],
   "source": []
  }
 ],
 "metadata": {
  "kernelspec": {
   "display_name": "Python 3",
   "language": "python",
   "name": "python3"
  },
  "language_info": {
   "codemirror_mode": {
    "name": "ipython",
    "version": 3
   },
   "file_extension": ".py",
   "mimetype": "text/x-python",
   "name": "python",
   "nbconvert_exporter": "python",
   "pygments_lexer": "ipython3",
   "version": "3.6.4"
  }
 },
 "nbformat": 4,
 "nbformat_minor": 2
}
